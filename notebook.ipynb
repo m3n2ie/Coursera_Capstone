{
  "nbformat": 4,
  "nbformat_minor": 0,
  "metadata": {
    "colab": {
      "name": "Untitled2.ipynb",
      "provenance": [],
      "collapsed_sections": [],
      "mount_file_id": "1ZGhY6yZTOVvWI4ml-SdtxUjcdjXnn69d",
      "authorship_tag": "ABX9TyN7YFD/xVraEOLw66jxr6eD"
    },
    "kernelspec": {
      "name": "python3",
      "display_name": "Python 3"
    }
  },
  "cells": [
    {
      "cell_type": "markdown",
      "metadata": {
        "id": "h8YyY0pMsZfW"
      },
      "source": [
        "<h1> Data Science Coursera Capstone <h1>"
      ]
    },
    {
      "cell_type": "markdown",
      "metadata": {
        "id": "MmF1FaLOoNt5"
      },
      "source": [
        "# Introduction\n",
        "Cars transformed modern society to what it is now and literally sped up economic activities – bringing in financial growth and opportunities to the masses. But all of this came at a cost. Road traffic injuries are estimated to be the eighth leading cause of death globally for all age groups and the leading cause of death for children and young people 5–29 years of age. More people now die in road traffic crashes than from HIV/AIDS [1]. The ability to predict these unfortunate events will help transport authorities to implement policies and laws based on factors that are directly impact the safety of car drivers."
      ]
    },
    {
      "cell_type": "markdown",
      "metadata": {
        "id": "EoV__rsFqTSI"
      },
      "source": [
        "# Data Description"
      ]
    },
    {
      "cell_type": "code",
      "metadata": {
        "id": "D_txmTa8sbrX"
      },
      "source": [
        "import itertools\n",
        "import numpy as np\n",
        "import matplotlib.pyplot as plt\n",
        "from matplotlib.ticker import NullFormatter\n",
        "import pandas as pd\n",
        "import numpy as np\n",
        "import matplotlib.ticker as ticker\n",
        "from sklearn import preprocessing"
      ],
      "execution_count": 3,
      "outputs": []
    },
    {
      "cell_type": "code",
      "metadata": {
        "id": "VrQhx61EFPKh",
        "outputId": "673af371-07a4-4b84-83e5-daa9357313fd",
        "colab": {
          "base_uri": "https://localhost:8080/",
          "height": 734
        }
      },
      "source": [
        "df = pd.read_csv('/content/drive/My Drive/School Stuff/Coursera/Data-Collisions.csv')\n",
        "df.head()"
      ],
      "execution_count": 4,
      "outputs": [
        {
          "output_type": "stream",
          "text": [
            "/usr/local/lib/python3.6/dist-packages/IPython/core/interactiveshell.py:2718: DtypeWarning: Columns (33) have mixed types.Specify dtype option on import or set low_memory=False.\n",
            "  interactivity=interactivity, compiler=compiler, result=result)\n"
          ],
          "name": "stderr"
        },
        {
          "output_type": "execute_result",
          "data": {
            "text/html": [
              "<div>\n",
              "<style scoped>\n",
              "    .dataframe tbody tr th:only-of-type {\n",
              "        vertical-align: middle;\n",
              "    }\n",
              "\n",
              "    .dataframe tbody tr th {\n",
              "        vertical-align: top;\n",
              "    }\n",
              "\n",
              "    .dataframe thead th {\n",
              "        text-align: right;\n",
              "    }\n",
              "</style>\n",
              "<table border=\"1\" class=\"dataframe\">\n",
              "  <thead>\n",
              "    <tr style=\"text-align: right;\">\n",
              "      <th></th>\n",
              "      <th>SEVERITYCODE</th>\n",
              "      <th>X</th>\n",
              "      <th>Y</th>\n",
              "      <th>OBJECTID</th>\n",
              "      <th>INCKEY</th>\n",
              "      <th>COLDETKEY</th>\n",
              "      <th>REPORTNO</th>\n",
              "      <th>STATUS</th>\n",
              "      <th>ADDRTYPE</th>\n",
              "      <th>INTKEY</th>\n",
              "      <th>LOCATION</th>\n",
              "      <th>EXCEPTRSNCODE</th>\n",
              "      <th>EXCEPTRSNDESC</th>\n",
              "      <th>SEVERITYCODE.1</th>\n",
              "      <th>SEVERITYDESC</th>\n",
              "      <th>COLLISIONTYPE</th>\n",
              "      <th>PERSONCOUNT</th>\n",
              "      <th>PEDCOUNT</th>\n",
              "      <th>PEDCYLCOUNT</th>\n",
              "      <th>VEHCOUNT</th>\n",
              "      <th>INCDATE</th>\n",
              "      <th>INCDTTM</th>\n",
              "      <th>JUNCTIONTYPE</th>\n",
              "      <th>SDOT_COLCODE</th>\n",
              "      <th>SDOT_COLDESC</th>\n",
              "      <th>INATTENTIONIND</th>\n",
              "      <th>UNDERINFL</th>\n",
              "      <th>WEATHER</th>\n",
              "      <th>ROADCOND</th>\n",
              "      <th>LIGHTCOND</th>\n",
              "      <th>PEDROWNOTGRNT</th>\n",
              "      <th>SDOTCOLNUM</th>\n",
              "      <th>SPEEDING</th>\n",
              "      <th>ST_COLCODE</th>\n",
              "      <th>ST_COLDESC</th>\n",
              "      <th>SEGLANEKEY</th>\n",
              "      <th>CROSSWALKKEY</th>\n",
              "      <th>HITPARKEDCAR</th>\n",
              "    </tr>\n",
              "  </thead>\n",
              "  <tbody>\n",
              "    <tr>\n",
              "      <th>0</th>\n",
              "      <td>2</td>\n",
              "      <td>-122.323148</td>\n",
              "      <td>47.703140</td>\n",
              "      <td>1</td>\n",
              "      <td>1307</td>\n",
              "      <td>1307</td>\n",
              "      <td>3502005</td>\n",
              "      <td>Matched</td>\n",
              "      <td>Intersection</td>\n",
              "      <td>37475.0</td>\n",
              "      <td>5TH AVE NE AND NE 103RD ST</td>\n",
              "      <td></td>\n",
              "      <td>NaN</td>\n",
              "      <td>2</td>\n",
              "      <td>Injury Collision</td>\n",
              "      <td>Angles</td>\n",
              "      <td>2</td>\n",
              "      <td>0</td>\n",
              "      <td>0</td>\n",
              "      <td>2</td>\n",
              "      <td>2013/03/27 00:00:00+00</td>\n",
              "      <td>3/27/2013 2:54:00 PM</td>\n",
              "      <td>At Intersection (intersection related)</td>\n",
              "      <td>11</td>\n",
              "      <td>MOTOR VEHICLE STRUCK MOTOR VEHICLE, FRONT END ...</td>\n",
              "      <td>NaN</td>\n",
              "      <td>N</td>\n",
              "      <td>Overcast</td>\n",
              "      <td>Wet</td>\n",
              "      <td>Daylight</td>\n",
              "      <td>NaN</td>\n",
              "      <td>NaN</td>\n",
              "      <td>NaN</td>\n",
              "      <td>10</td>\n",
              "      <td>Entering at angle</td>\n",
              "      <td>0</td>\n",
              "      <td>0</td>\n",
              "      <td>N</td>\n",
              "    </tr>\n",
              "    <tr>\n",
              "      <th>1</th>\n",
              "      <td>1</td>\n",
              "      <td>-122.347294</td>\n",
              "      <td>47.647172</td>\n",
              "      <td>2</td>\n",
              "      <td>52200</td>\n",
              "      <td>52200</td>\n",
              "      <td>2607959</td>\n",
              "      <td>Matched</td>\n",
              "      <td>Block</td>\n",
              "      <td>NaN</td>\n",
              "      <td>AURORA BR BETWEEN RAYE ST AND BRIDGE WAY N</td>\n",
              "      <td>NaN</td>\n",
              "      <td>NaN</td>\n",
              "      <td>1</td>\n",
              "      <td>Property Damage Only Collision</td>\n",
              "      <td>Sideswipe</td>\n",
              "      <td>2</td>\n",
              "      <td>0</td>\n",
              "      <td>0</td>\n",
              "      <td>2</td>\n",
              "      <td>2006/12/20 00:00:00+00</td>\n",
              "      <td>12/20/2006 6:55:00 PM</td>\n",
              "      <td>Mid-Block (not related to intersection)</td>\n",
              "      <td>16</td>\n",
              "      <td>MOTOR VEHICLE STRUCK MOTOR VEHICLE, LEFT SIDE ...</td>\n",
              "      <td>NaN</td>\n",
              "      <td>0</td>\n",
              "      <td>Raining</td>\n",
              "      <td>Wet</td>\n",
              "      <td>Dark - Street Lights On</td>\n",
              "      <td>NaN</td>\n",
              "      <td>6354039.0</td>\n",
              "      <td>NaN</td>\n",
              "      <td>11</td>\n",
              "      <td>From same direction - both going straight - bo...</td>\n",
              "      <td>0</td>\n",
              "      <td>0</td>\n",
              "      <td>N</td>\n",
              "    </tr>\n",
              "    <tr>\n",
              "      <th>2</th>\n",
              "      <td>1</td>\n",
              "      <td>-122.334540</td>\n",
              "      <td>47.607871</td>\n",
              "      <td>3</td>\n",
              "      <td>26700</td>\n",
              "      <td>26700</td>\n",
              "      <td>1482393</td>\n",
              "      <td>Matched</td>\n",
              "      <td>Block</td>\n",
              "      <td>NaN</td>\n",
              "      <td>4TH AVE BETWEEN SENECA ST AND UNIVERSITY ST</td>\n",
              "      <td>NaN</td>\n",
              "      <td>NaN</td>\n",
              "      <td>1</td>\n",
              "      <td>Property Damage Only Collision</td>\n",
              "      <td>Parked Car</td>\n",
              "      <td>4</td>\n",
              "      <td>0</td>\n",
              "      <td>0</td>\n",
              "      <td>3</td>\n",
              "      <td>2004/11/18 00:00:00+00</td>\n",
              "      <td>11/18/2004 10:20:00 AM</td>\n",
              "      <td>Mid-Block (not related to intersection)</td>\n",
              "      <td>14</td>\n",
              "      <td>MOTOR VEHICLE STRUCK MOTOR VEHICLE, REAR END</td>\n",
              "      <td>NaN</td>\n",
              "      <td>0</td>\n",
              "      <td>Overcast</td>\n",
              "      <td>Dry</td>\n",
              "      <td>Daylight</td>\n",
              "      <td>NaN</td>\n",
              "      <td>4323031.0</td>\n",
              "      <td>NaN</td>\n",
              "      <td>32</td>\n",
              "      <td>One parked--one moving</td>\n",
              "      <td>0</td>\n",
              "      <td>0</td>\n",
              "      <td>N</td>\n",
              "    </tr>\n",
              "    <tr>\n",
              "      <th>3</th>\n",
              "      <td>1</td>\n",
              "      <td>-122.334803</td>\n",
              "      <td>47.604803</td>\n",
              "      <td>4</td>\n",
              "      <td>1144</td>\n",
              "      <td>1144</td>\n",
              "      <td>3503937</td>\n",
              "      <td>Matched</td>\n",
              "      <td>Block</td>\n",
              "      <td>NaN</td>\n",
              "      <td>2ND AVE BETWEEN MARION ST AND MADISON ST</td>\n",
              "      <td></td>\n",
              "      <td>NaN</td>\n",
              "      <td>1</td>\n",
              "      <td>Property Damage Only Collision</td>\n",
              "      <td>Other</td>\n",
              "      <td>3</td>\n",
              "      <td>0</td>\n",
              "      <td>0</td>\n",
              "      <td>3</td>\n",
              "      <td>2013/03/29 00:00:00+00</td>\n",
              "      <td>3/29/2013 9:26:00 AM</td>\n",
              "      <td>Mid-Block (not related to intersection)</td>\n",
              "      <td>11</td>\n",
              "      <td>MOTOR VEHICLE STRUCK MOTOR VEHICLE, FRONT END ...</td>\n",
              "      <td>NaN</td>\n",
              "      <td>N</td>\n",
              "      <td>Clear</td>\n",
              "      <td>Dry</td>\n",
              "      <td>Daylight</td>\n",
              "      <td>NaN</td>\n",
              "      <td>NaN</td>\n",
              "      <td>NaN</td>\n",
              "      <td>23</td>\n",
              "      <td>From same direction - all others</td>\n",
              "      <td>0</td>\n",
              "      <td>0</td>\n",
              "      <td>N</td>\n",
              "    </tr>\n",
              "    <tr>\n",
              "      <th>4</th>\n",
              "      <td>2</td>\n",
              "      <td>-122.306426</td>\n",
              "      <td>47.545739</td>\n",
              "      <td>5</td>\n",
              "      <td>17700</td>\n",
              "      <td>17700</td>\n",
              "      <td>1807429</td>\n",
              "      <td>Matched</td>\n",
              "      <td>Intersection</td>\n",
              "      <td>34387.0</td>\n",
              "      <td>SWIFT AVE S AND SWIFT AV OFF RP</td>\n",
              "      <td>NaN</td>\n",
              "      <td>NaN</td>\n",
              "      <td>2</td>\n",
              "      <td>Injury Collision</td>\n",
              "      <td>Angles</td>\n",
              "      <td>2</td>\n",
              "      <td>0</td>\n",
              "      <td>0</td>\n",
              "      <td>2</td>\n",
              "      <td>2004/01/28 00:00:00+00</td>\n",
              "      <td>1/28/2004 8:04:00 AM</td>\n",
              "      <td>At Intersection (intersection related)</td>\n",
              "      <td>11</td>\n",
              "      <td>MOTOR VEHICLE STRUCK MOTOR VEHICLE, FRONT END ...</td>\n",
              "      <td>NaN</td>\n",
              "      <td>0</td>\n",
              "      <td>Raining</td>\n",
              "      <td>Wet</td>\n",
              "      <td>Daylight</td>\n",
              "      <td>NaN</td>\n",
              "      <td>4028032.0</td>\n",
              "      <td>NaN</td>\n",
              "      <td>10</td>\n",
              "      <td>Entering at angle</td>\n",
              "      <td>0</td>\n",
              "      <td>0</td>\n",
              "      <td>N</td>\n",
              "    </tr>\n",
              "  </tbody>\n",
              "</table>\n",
              "</div>"
            ],
            "text/plain": [
              "   SEVERITYCODE           X          Y  ...  SEGLANEKEY  CROSSWALKKEY  HITPARKEDCAR\n",
              "0             2 -122.323148  47.703140  ...           0             0             N\n",
              "1             1 -122.347294  47.647172  ...           0             0             N\n",
              "2             1 -122.334540  47.607871  ...           0             0             N\n",
              "3             1 -122.334803  47.604803  ...           0             0             N\n",
              "4             2 -122.306426  47.545739  ...           0             0             N\n",
              "\n",
              "[5 rows x 38 columns]"
            ]
          },
          "metadata": {
            "tags": []
          },
          "execution_count": 4
        }
      ]
    },
    {
      "cell_type": "markdown",
      "metadata": {
        "id": "BX6MlwLXqNvl"
      },
      "source": [
        "\n",
        "The [original dataset ](https://s3.us.cloud-object-storage.appdomain.cloud/cf-courses-data/CognitiveClass/DP0701EN/version-2/Data-Collisions.csv)had irrelevant attributes, so we decided to cut down to the following features:\n",
        "*\tSEVERITYCODE - A code that corresponds to the severity of the collision\n",
        "*\tROADCOND - The condition of the road during the collision\n",
        "*\tWEATHER - A description of the weather conditions during the time of the collision\n",
        "*\tLIGHTCOND - The light conditions during the collision\n",
        "*\tADDRTYPE - Collision address type (Alley, Block, Intersection)\n",
        "\n",
        "The dataset to be used was then extracted as follows:\n"
      ]
    },
    {
      "cell_type": "code",
      "metadata": {
        "id": "SzefRJ31f1jq",
        "outputId": "6f5b0819-4296-4fba-8fe2-eac551740d11",
        "colab": {
          "base_uri": "https://localhost:8080/",
          "height": 419
        }
      },
      "source": [
        "df = df[['SEVERITYCODE', 'ROADCOND', 'WEATHER', 'LIGHTCOND', 'ADDRTYPE']]\n",
        "df"
      ],
      "execution_count": 5,
      "outputs": [
        {
          "output_type": "execute_result",
          "data": {
            "text/html": [
              "<div>\n",
              "<style scoped>\n",
              "    .dataframe tbody tr th:only-of-type {\n",
              "        vertical-align: middle;\n",
              "    }\n",
              "\n",
              "    .dataframe tbody tr th {\n",
              "        vertical-align: top;\n",
              "    }\n",
              "\n",
              "    .dataframe thead th {\n",
              "        text-align: right;\n",
              "    }\n",
              "</style>\n",
              "<table border=\"1\" class=\"dataframe\">\n",
              "  <thead>\n",
              "    <tr style=\"text-align: right;\">\n",
              "      <th></th>\n",
              "      <th>SEVERITYCODE</th>\n",
              "      <th>ROADCOND</th>\n",
              "      <th>WEATHER</th>\n",
              "      <th>LIGHTCOND</th>\n",
              "      <th>ADDRTYPE</th>\n",
              "    </tr>\n",
              "  </thead>\n",
              "  <tbody>\n",
              "    <tr>\n",
              "      <th>0</th>\n",
              "      <td>2</td>\n",
              "      <td>Wet</td>\n",
              "      <td>Overcast</td>\n",
              "      <td>Daylight</td>\n",
              "      <td>Intersection</td>\n",
              "    </tr>\n",
              "    <tr>\n",
              "      <th>1</th>\n",
              "      <td>1</td>\n",
              "      <td>Wet</td>\n",
              "      <td>Raining</td>\n",
              "      <td>Dark - Street Lights On</td>\n",
              "      <td>Block</td>\n",
              "    </tr>\n",
              "    <tr>\n",
              "      <th>2</th>\n",
              "      <td>1</td>\n",
              "      <td>Dry</td>\n",
              "      <td>Overcast</td>\n",
              "      <td>Daylight</td>\n",
              "      <td>Block</td>\n",
              "    </tr>\n",
              "    <tr>\n",
              "      <th>3</th>\n",
              "      <td>1</td>\n",
              "      <td>Dry</td>\n",
              "      <td>Clear</td>\n",
              "      <td>Daylight</td>\n",
              "      <td>Block</td>\n",
              "    </tr>\n",
              "    <tr>\n",
              "      <th>4</th>\n",
              "      <td>2</td>\n",
              "      <td>Wet</td>\n",
              "      <td>Raining</td>\n",
              "      <td>Daylight</td>\n",
              "      <td>Intersection</td>\n",
              "    </tr>\n",
              "    <tr>\n",
              "      <th>...</th>\n",
              "      <td>...</td>\n",
              "      <td>...</td>\n",
              "      <td>...</td>\n",
              "      <td>...</td>\n",
              "      <td>...</td>\n",
              "    </tr>\n",
              "    <tr>\n",
              "      <th>194668</th>\n",
              "      <td>2</td>\n",
              "      <td>Dry</td>\n",
              "      <td>Clear</td>\n",
              "      <td>Daylight</td>\n",
              "      <td>Block</td>\n",
              "    </tr>\n",
              "    <tr>\n",
              "      <th>194669</th>\n",
              "      <td>1</td>\n",
              "      <td>Wet</td>\n",
              "      <td>Raining</td>\n",
              "      <td>Daylight</td>\n",
              "      <td>Block</td>\n",
              "    </tr>\n",
              "    <tr>\n",
              "      <th>194670</th>\n",
              "      <td>2</td>\n",
              "      <td>Dry</td>\n",
              "      <td>Clear</td>\n",
              "      <td>Daylight</td>\n",
              "      <td>Intersection</td>\n",
              "    </tr>\n",
              "    <tr>\n",
              "      <th>194671</th>\n",
              "      <td>2</td>\n",
              "      <td>Dry</td>\n",
              "      <td>Clear</td>\n",
              "      <td>Dusk</td>\n",
              "      <td>Intersection</td>\n",
              "    </tr>\n",
              "    <tr>\n",
              "      <th>194672</th>\n",
              "      <td>1</td>\n",
              "      <td>Wet</td>\n",
              "      <td>Clear</td>\n",
              "      <td>Daylight</td>\n",
              "      <td>Block</td>\n",
              "    </tr>\n",
              "  </tbody>\n",
              "</table>\n",
              "<p>194673 rows × 5 columns</p>\n",
              "</div>"
            ],
            "text/plain": [
              "        SEVERITYCODE ROADCOND   WEATHER                LIGHTCOND      ADDRTYPE\n",
              "0                  2      Wet  Overcast                 Daylight  Intersection\n",
              "1                  1      Wet   Raining  Dark - Street Lights On         Block\n",
              "2                  1      Dry  Overcast                 Daylight         Block\n",
              "3                  1      Dry     Clear                 Daylight         Block\n",
              "4                  2      Wet   Raining                 Daylight  Intersection\n",
              "...              ...      ...       ...                      ...           ...\n",
              "194668             2      Dry     Clear                 Daylight         Block\n",
              "194669             1      Wet   Raining                 Daylight         Block\n",
              "194670             2      Dry     Clear                 Daylight  Intersection\n",
              "194671             2      Dry     Clear                     Dusk  Intersection\n",
              "194672             1      Wet     Clear                 Daylight         Block\n",
              "\n",
              "[194673 rows x 5 columns]"
            ]
          },
          "metadata": {
            "tags": []
          },
          "execution_count": 5
        }
      ]
    },
    {
      "cell_type": "markdown",
      "metadata": {
        "id": "5yAKF9bwtO7U"
      },
      "source": [
        "We then converted the columns into categorical data types"
      ]
    },
    {
      "cell_type": "code",
      "metadata": {
        "id": "cS6vA_XPhOTt",
        "outputId": "051ec588-2f86-40b9-8006-e4e58c7d44d9",
        "colab": {
          "base_uri": "https://localhost:8080/",
          "height": 436
        }
      },
      "source": [
        "df[\"ROADCOND\"] = df[\"ROADCOND\"].astype('category')\n",
        "df[\"WEATHER\"] = df[\"WEATHER\"].astype('category')\n",
        "df[\"LIGHTCOND\"] = df[\"LIGHTCOND\"].astype('category')\n",
        "df[\"ADDRTYPE\"] = df[\"ADDRTYPE\"].astype('category')\n",
        "\n",
        "df[\"ROADCOND_CAT\"] = df[\"ROADCOND\"].cat.codes\n",
        "df[\"WEATHER_CAT\"] = df[\"WEATHER\"].cat.codes\n",
        "df[\"LIGHTCOND_CAT\"] = df[\"LIGHTCOND\"].cat.codes\n",
        "df[\"ADDRTYPE_CAT\"] = df[\"ADDRTYPE\"].cat.codes\n",
        "\n",
        "df"
      ],
      "execution_count": 6,
      "outputs": [
        {
          "output_type": "execute_result",
          "data": {
            "text/html": [
              "<div>\n",
              "<style scoped>\n",
              "    .dataframe tbody tr th:only-of-type {\n",
              "        vertical-align: middle;\n",
              "    }\n",
              "\n",
              "    .dataframe tbody tr th {\n",
              "        vertical-align: top;\n",
              "    }\n",
              "\n",
              "    .dataframe thead th {\n",
              "        text-align: right;\n",
              "    }\n",
              "</style>\n",
              "<table border=\"1\" class=\"dataframe\">\n",
              "  <thead>\n",
              "    <tr style=\"text-align: right;\">\n",
              "      <th></th>\n",
              "      <th>SEVERITYCODE</th>\n",
              "      <th>ROADCOND</th>\n",
              "      <th>WEATHER</th>\n",
              "      <th>LIGHTCOND</th>\n",
              "      <th>ADDRTYPE</th>\n",
              "      <th>ROADCOND_CAT</th>\n",
              "      <th>WEATHER_CAT</th>\n",
              "      <th>LIGHTCOND_CAT</th>\n",
              "      <th>ADDRTYPE_CAT</th>\n",
              "    </tr>\n",
              "  </thead>\n",
              "  <tbody>\n",
              "    <tr>\n",
              "      <th>0</th>\n",
              "      <td>2</td>\n",
              "      <td>Wet</td>\n",
              "      <td>Overcast</td>\n",
              "      <td>Daylight</td>\n",
              "      <td>Intersection</td>\n",
              "      <td>8</td>\n",
              "      <td>4</td>\n",
              "      <td>5</td>\n",
              "      <td>2</td>\n",
              "    </tr>\n",
              "    <tr>\n",
              "      <th>1</th>\n",
              "      <td>1</td>\n",
              "      <td>Wet</td>\n",
              "      <td>Raining</td>\n",
              "      <td>Dark - Street Lights On</td>\n",
              "      <td>Block</td>\n",
              "      <td>8</td>\n",
              "      <td>6</td>\n",
              "      <td>2</td>\n",
              "      <td>1</td>\n",
              "    </tr>\n",
              "    <tr>\n",
              "      <th>2</th>\n",
              "      <td>1</td>\n",
              "      <td>Dry</td>\n",
              "      <td>Overcast</td>\n",
              "      <td>Daylight</td>\n",
              "      <td>Block</td>\n",
              "      <td>0</td>\n",
              "      <td>4</td>\n",
              "      <td>5</td>\n",
              "      <td>1</td>\n",
              "    </tr>\n",
              "    <tr>\n",
              "      <th>3</th>\n",
              "      <td>1</td>\n",
              "      <td>Dry</td>\n",
              "      <td>Clear</td>\n",
              "      <td>Daylight</td>\n",
              "      <td>Block</td>\n",
              "      <td>0</td>\n",
              "      <td>1</td>\n",
              "      <td>5</td>\n",
              "      <td>1</td>\n",
              "    </tr>\n",
              "    <tr>\n",
              "      <th>4</th>\n",
              "      <td>2</td>\n",
              "      <td>Wet</td>\n",
              "      <td>Raining</td>\n",
              "      <td>Daylight</td>\n",
              "      <td>Intersection</td>\n",
              "      <td>8</td>\n",
              "      <td>6</td>\n",
              "      <td>5</td>\n",
              "      <td>2</td>\n",
              "    </tr>\n",
              "    <tr>\n",
              "      <th>...</th>\n",
              "      <td>...</td>\n",
              "      <td>...</td>\n",
              "      <td>...</td>\n",
              "      <td>...</td>\n",
              "      <td>...</td>\n",
              "      <td>...</td>\n",
              "      <td>...</td>\n",
              "      <td>...</td>\n",
              "      <td>...</td>\n",
              "    </tr>\n",
              "    <tr>\n",
              "      <th>194668</th>\n",
              "      <td>2</td>\n",
              "      <td>Dry</td>\n",
              "      <td>Clear</td>\n",
              "      <td>Daylight</td>\n",
              "      <td>Block</td>\n",
              "      <td>0</td>\n",
              "      <td>1</td>\n",
              "      <td>5</td>\n",
              "      <td>1</td>\n",
              "    </tr>\n",
              "    <tr>\n",
              "      <th>194669</th>\n",
              "      <td>1</td>\n",
              "      <td>Wet</td>\n",
              "      <td>Raining</td>\n",
              "      <td>Daylight</td>\n",
              "      <td>Block</td>\n",
              "      <td>8</td>\n",
              "      <td>6</td>\n",
              "      <td>5</td>\n",
              "      <td>1</td>\n",
              "    </tr>\n",
              "    <tr>\n",
              "      <th>194670</th>\n",
              "      <td>2</td>\n",
              "      <td>Dry</td>\n",
              "      <td>Clear</td>\n",
              "      <td>Daylight</td>\n",
              "      <td>Intersection</td>\n",
              "      <td>0</td>\n",
              "      <td>1</td>\n",
              "      <td>5</td>\n",
              "      <td>2</td>\n",
              "    </tr>\n",
              "    <tr>\n",
              "      <th>194671</th>\n",
              "      <td>2</td>\n",
              "      <td>Dry</td>\n",
              "      <td>Clear</td>\n",
              "      <td>Dusk</td>\n",
              "      <td>Intersection</td>\n",
              "      <td>0</td>\n",
              "      <td>1</td>\n",
              "      <td>6</td>\n",
              "      <td>2</td>\n",
              "    </tr>\n",
              "    <tr>\n",
              "      <th>194672</th>\n",
              "      <td>1</td>\n",
              "      <td>Wet</td>\n",
              "      <td>Clear</td>\n",
              "      <td>Daylight</td>\n",
              "      <td>Block</td>\n",
              "      <td>8</td>\n",
              "      <td>1</td>\n",
              "      <td>5</td>\n",
              "      <td>1</td>\n",
              "    </tr>\n",
              "  </tbody>\n",
              "</table>\n",
              "<p>194673 rows × 9 columns</p>\n",
              "</div>"
            ],
            "text/plain": [
              "        SEVERITYCODE ROADCOND  ... LIGHTCOND_CAT ADDRTYPE_CAT\n",
              "0                  2      Wet  ...             5            2\n",
              "1                  1      Wet  ...             2            1\n",
              "2                  1      Dry  ...             5            1\n",
              "3                  1      Dry  ...             5            1\n",
              "4                  2      Wet  ...             5            2\n",
              "...              ...      ...  ...           ...          ...\n",
              "194668             2      Dry  ...             5            1\n",
              "194669             1      Wet  ...             5            1\n",
              "194670             2      Dry  ...             5            2\n",
              "194671             2      Dry  ...             6            2\n",
              "194672             1      Wet  ...             5            1\n",
              "\n",
              "[194673 rows x 9 columns]"
            ]
          },
          "metadata": {
            "tags": []
          },
          "execution_count": 6
        }
      ]
    },
    {
      "cell_type": "code",
      "metadata": {
        "id": "RxGrjJkHmMcl",
        "outputId": "144954dd-8fcc-4a87-9b2a-5c5c2beef8c0",
        "colab": {
          "base_uri": "https://localhost:8080/",
          "height": 187
        }
      },
      "source": [
        "df.dtypes"
      ],
      "execution_count": 7,
      "outputs": [
        {
          "output_type": "execute_result",
          "data": {
            "text/plain": [
              "SEVERITYCODE        int64\n",
              "ROADCOND         category\n",
              "WEATHER          category\n",
              "LIGHTCOND        category\n",
              "ADDRTYPE         category\n",
              "ROADCOND_CAT         int8\n",
              "WEATHER_CAT          int8\n",
              "LIGHTCOND_CAT        int8\n",
              "ADDRTYPE_CAT         int8\n",
              "dtype: object"
            ]
          },
          "metadata": {
            "tags": []
          },
          "execution_count": 7
        }
      ]
    },
    {
      "cell_type": "code",
      "metadata": {
        "id": "2CegNta5mgye",
        "outputId": "44200d1e-3678-400f-c008-42e90597d931",
        "colab": {
          "base_uri": "https://localhost:8080/",
          "height": 68
        }
      },
      "source": [
        "df[\"SEVERITYCODE\"].value_counts()"
      ],
      "execution_count": 8,
      "outputs": [
        {
          "output_type": "execute_result",
          "data": {
            "text/plain": [
              "1    136485\n",
              "2     58188\n",
              "Name: SEVERITYCODE, dtype: int64"
            ]
          },
          "metadata": {
            "tags": []
          },
          "execution_count": 8
        }
      ]
    },
    {
      "cell_type": "code",
      "metadata": {
        "id": "L22K-aIbmxPO",
        "outputId": "0f91fdfd-a41c-424b-80fb-d0910e1bf73f",
        "colab": {
          "base_uri": "https://localhost:8080/",
          "height": 187
        }
      },
      "source": [
        "df[\"ROADCOND\"].value_counts()"
      ],
      "execution_count": 9,
      "outputs": [
        {
          "output_type": "execute_result",
          "data": {
            "text/plain": [
              "Dry               124510\n",
              "Wet                47474\n",
              "Unknown            15078\n",
              "Ice                 1209\n",
              "Snow/Slush          1004\n",
              "Other                132\n",
              "Standing Water       115\n",
              "Sand/Mud/Dirt         75\n",
              "Oil                   64\n",
              "Name: ROADCOND, dtype: int64"
            ]
          },
          "metadata": {
            "tags": []
          },
          "execution_count": 9
        }
      ]
    },
    {
      "cell_type": "code",
      "metadata": {
        "id": "_gbfx4gtmyW7",
        "outputId": "674b0fd2-e1bb-4d16-cb69-bba523688e25",
        "colab": {
          "base_uri": "https://localhost:8080/",
          "height": 221
        }
      },
      "source": [
        "df[\"WEATHER\"].value_counts()"
      ],
      "execution_count": 10,
      "outputs": [
        {
          "output_type": "execute_result",
          "data": {
            "text/plain": [
              "Clear                       111135\n",
              "Raining                      33145\n",
              "Overcast                     27714\n",
              "Unknown                      15091\n",
              "Snowing                        907\n",
              "Other                          832\n",
              "Fog/Smog/Smoke                 569\n",
              "Sleet/Hail/Freezing Rain       113\n",
              "Blowing Sand/Dirt               56\n",
              "Severe Crosswind                25\n",
              "Partly Cloudy                    5\n",
              "Name: WEATHER, dtype: int64"
            ]
          },
          "metadata": {
            "tags": []
          },
          "execution_count": 10
        }
      ]
    },
    {
      "cell_type": "code",
      "metadata": {
        "id": "2GYsBWcVmy1B",
        "outputId": "70b49b33-74d8-4dbb-e8dd-44689e7977b5",
        "colab": {
          "base_uri": "https://localhost:8080/",
          "height": 187
        }
      },
      "source": [
        "df[\"LIGHTCOND\"].value_counts()"
      ],
      "execution_count": 11,
      "outputs": [
        {
          "output_type": "execute_result",
          "data": {
            "text/plain": [
              "Daylight                    116137\n",
              "Dark - Street Lights On      48507\n",
              "Unknown                      13473\n",
              "Dusk                          5902\n",
              "Dawn                          2502\n",
              "Dark - No Street Lights       1537\n",
              "Dark - Street Lights Off      1199\n",
              "Other                          235\n",
              "Dark - Unknown Lighting         11\n",
              "Name: LIGHTCOND, dtype: int64"
            ]
          },
          "metadata": {
            "tags": []
          },
          "execution_count": 11
        }
      ]
    },
    {
      "cell_type": "code",
      "metadata": {
        "id": "jf3hnvWomzCZ",
        "outputId": "f1f7a714-365a-4e8a-b89e-6e25359cc0b6",
        "colab": {
          "base_uri": "https://localhost:8080/",
          "height": 85
        }
      },
      "source": [
        "df[\"ADDRTYPE\"].value_counts()"
      ],
      "execution_count": 12,
      "outputs": [
        {
          "output_type": "execute_result",
          "data": {
            "text/plain": [
              "Block           126926\n",
              "Intersection     65070\n",
              "Alley              751\n",
              "Name: ADDRTYPE, dtype: int64"
            ]
          },
          "metadata": {
            "tags": []
          },
          "execution_count": 12
        }
      ]
    },
    {
      "cell_type": "markdown",
      "metadata": {
        "id": "zxjHiK47tUKH"
      },
      "source": [
        "One more issue remains – the SEVERITYCODE column is not balanced i.e. the number of entries is not equally distributed across the available classes. This was fixed as shown below"
      ]
    },
    {
      "cell_type": "code",
      "metadata": {
        "id": "6P5sV6BTnrd5",
        "outputId": "11a009a8-1bba-4d51-80bd-c36de2bc4ea2",
        "colab": {
          "base_uri": "https://localhost:8080/",
          "height": 68
        }
      },
      "source": [
        "from sklearn.utils import resample\n",
        "# Seperate majority and minority classes\n",
        "df_majority = df[df.SEVERITYCODE==1]\n",
        "df_minority = df[df.SEVERITYCODE==2]\n",
        "\n",
        "#Downsample majority class\n",
        "df_majority_downsampled = resample(df_majority,\n",
        "                                        replace=False,\n",
        "                                        n_samples=58188,\n",
        "                                        random_state=123)\n",
        "\n",
        "# Combine minority class with downsampled majority class\n",
        "df_balanced = pd.concat([df_majority_downsampled, df_minority])\n",
        "\n",
        "# Display new class counts\n",
        "df_balanced.SEVERITYCODE.value_counts()"
      ],
      "execution_count": 13,
      "outputs": [
        {
          "output_type": "execute_result",
          "data": {
            "text/plain": [
              "2    58188\n",
              "1    58188\n",
              "Name: SEVERITYCODE, dtype: int64"
            ]
          },
          "metadata": {
            "tags": []
          },
          "execution_count": 13
        }
      ]
    },
    {
      "cell_type": "markdown",
      "metadata": {
        "id": "6YBgu37utoK1"
      },
      "source": [
        "Now our dataset is ready for modelling."
      ]
    },
    {
      "cell_type": "markdown",
      "metadata": {
        "id": "GjnnMa38FRQb"
      },
      "source": [
        "# Methodology"
      ]
    },
    {
      "cell_type": "code",
      "metadata": {
        "id": "jlH47FRXFi-S",
        "outputId": "d60acc15-436b-4e6e-b665-08f227a2b917",
        "colab": {
          "base_uri": "https://localhost:8080/",
          "height": 102
        }
      },
      "source": [
        "import numpy as np\n",
        "X = np.asarray(df_balanced[['WEATHER_CAT', 'ROADCOND_CAT', 'LIGHTCOND_CAT', 'ADDRTYPE_CAT']])\n",
        "X[0:5]"
      ],
      "execution_count": 14,
      "outputs": [
        {
          "output_type": "execute_result",
          "data": {
            "text/plain": [
              "array([[ 6,  8,  2,  2],\n",
              "       [ 1,  0,  5,  2],\n",
              "       [10,  7,  8,  2],\n",
              "       [ 1,  0,  5,  1],\n",
              "       [ 1,  0,  5,  1]], dtype=int8)"
            ]
          },
          "metadata": {
            "tags": []
          },
          "execution_count": 14
        }
      ]
    },
    {
      "cell_type": "markdown",
      "metadata": {
        "id": "rLCWKQ7FF-SR"
      },
      "source": [
        "The target variable"
      ]
    },
    {
      "cell_type": "code",
      "metadata": {
        "id": "YRinuo_fF3KG",
        "outputId": "de021233-fafb-4879-ef62-648a0c42af80",
        "colab": {
          "base_uri": "https://localhost:8080/",
          "height": 34
        }
      },
      "source": [
        "y = np.asarray(df_balanced['SEVERITYCODE'])\n",
        "y [0:5]"
      ],
      "execution_count": 16,
      "outputs": [
        {
          "output_type": "execute_result",
          "data": {
            "text/plain": [
              "array([1, 1, 1, 1, 1])"
            ]
          },
          "metadata": {
            "tags": []
          },
          "execution_count": 16
        }
      ]
    },
    {
      "cell_type": "markdown",
      "metadata": {
        "id": "XPSPGYTxGEne"
      },
      "source": [
        "Dataset Normalization"
      ]
    },
    {
      "cell_type": "code",
      "metadata": {
        "id": "zXXV5BS_F8vr",
        "outputId": "16d139ab-32f9-4367-b01e-018316a537db",
        "colab": {
          "base_uri": "https://localhost:8080/",
          "height": 102
        }
      },
      "source": [
        "from sklearn import preprocessing\n",
        "X = preprocessing.StandardScaler().fit(X).transform(X)\n",
        "X[0:5]"
      ],
      "execution_count": 17,
      "outputs": [
        {
          "output_type": "execute_result",
          "data": {
            "text/plain": [
              "array([[ 1.15236718,  1.52797946, -1.21648407,  1.20776885],\n",
              "       [-0.67488   , -0.67084969,  0.42978835,  1.20776885],\n",
              "       [ 2.61416492,  1.25312582,  2.07606076,  1.20776885],\n",
              "       [-0.67488   , -0.67084969,  0.42978835, -0.66998231],\n",
              "       [-0.67488   , -0.67084969,  0.42978835, -0.66998231]])"
            ]
          },
          "metadata": {
            "tags": []
          },
          "execution_count": 17
        }
      ]
    },
    {
      "cell_type": "markdown",
      "metadata": {
        "id": "oZN12kZ_GOam"
      },
      "source": [
        "Dataset Test/Train Split - 70/30"
      ]
    },
    {
      "cell_type": "code",
      "metadata": {
        "id": "4WE8-I2YGPRD",
        "outputId": "c962e636-12cb-4eb1-b5d8-033b1058f68c",
        "colab": {
          "base_uri": "https://localhost:8080/",
          "height": 51
        }
      },
      "source": [
        "from sklearn.model_selection import train_test_split\n",
        "X_train, X_test, y_train, y_test = train_test_split(X, y, test_size=0.3, random_state=4)\n",
        "print ('Train set:', X_train.shape,  y_train.shape)\n",
        "print ('Test set:', X_test.shape,  y_test.shape)"
      ],
      "execution_count": 18,
      "outputs": [
        {
          "output_type": "stream",
          "text": [
            "Train set: (81463, 4) (81463,)\n",
            "Test set: (34913, 4) (34913,)\n"
          ],
          "name": "stdout"
        }
      ]
    },
    {
      "cell_type": "markdown",
      "metadata": {
        "id": "nx8JuE_8GgJR"
      },
      "source": [
        "### K-Nearest Neighbours"
      ]
    },
    {
      "cell_type": "code",
      "metadata": {
        "id": "6N14RKBOGu1C"
      },
      "source": [
        "# Building the KNN Model\n",
        "from sklearn.neighbors import KNeighborsClassifier\n",
        "\n",
        "k = 26"
      ],
      "execution_count": 38,
      "outputs": []
    },
    {
      "cell_type": "code",
      "metadata": {
        "id": "rdhWuCcIG0uB",
        "outputId": "6b72665c-7e09-428a-f166-2310a6836679",
        "colab": {
          "base_uri": "https://localhost:8080/",
          "height": 34
        }
      },
      "source": [
        "#Train Model & Predict  \n",
        "neigh = KNeighborsClassifier(n_neighbors = k).fit(X_train,y_train)\n",
        "neigh\n",
        "\n",
        "Kyhat = neigh.predict(X_test)\n",
        "Kyhat[0:5]"
      ],
      "execution_count": 39,
      "outputs": [
        {
          "output_type": "execute_result",
          "data": {
            "text/plain": [
              "array([1, 2, 1, 1, 1])"
            ]
          },
          "metadata": {
            "tags": []
          },
          "execution_count": 39
        }
      ]
    },
    {
      "cell_type": "code",
      "metadata": {
        "id": "xDDwrnXdKpey",
        "outputId": "da33700a-e924-4772-91b0-94e42637538b",
        "colab": {
          "base_uri": "https://localhost:8080/",
          "height": 646
        }
      },
      "source": [
        "from sklearn import metrics\n",
        "print(\"Train set Accuracy: \", metrics.accuracy_score(y_train, neigh.predict(X_train)))\n",
        "print(\"Test set Accuracy: \", metrics.accuracy_score(y_test, Kyhat))\n",
        "\n",
        "Ks = 30\n",
        "mean_acc = np.zeros((Ks-1))\n",
        "std_acc = np.zeros((Ks-1))\n",
        "ConfustionMx = [];\n",
        "for n in range(1,Ks):\n",
        "    \n",
        "    #Train Model and Predict  \n",
        "    neigh = KNeighborsClassifier(n_neighbors = n).fit(X_train,y_train)\n",
        "    yhat=neigh.predict(X_test)\n",
        "    mean_acc[n-1] = metrics.accuracy_score(y_test, yhat)\n",
        "    print(n)\n",
        "    std_acc[n-1]=np.std(yhat==y_test)/np.sqrt(yhat.shape[0])\n",
        "\n",
        "mean_acc"
      ],
      "execution_count": 36,
      "outputs": [
        {
          "output_type": "stream",
          "text": [
            "Train set Accuracy:  0.587776045566699\n",
            "Test set Accuracy:  0.5862859106922923\n",
            "1\n",
            "2\n",
            "3\n",
            "4\n",
            "5\n",
            "6\n",
            "7\n",
            "8\n",
            "9\n",
            "10\n",
            "11\n",
            "12\n",
            "13\n",
            "14\n",
            "15\n",
            "16\n",
            "17\n",
            "18\n",
            "19\n",
            "20\n",
            "21\n",
            "22\n",
            "23\n",
            "24\n",
            "25\n",
            "26\n",
            "27\n",
            "28\n",
            "29\n"
          ],
          "name": "stdout"
        },
        {
          "output_type": "execute_result",
          "data": {
            "text/plain": [
              "array([0.53404176, 0.5560393 , 0.55924727, 0.56016384, 0.54687366,\n",
              "       0.49646264, 0.5597342 , 0.50614384, 0.50368058, 0.5028213 ,\n",
              "       0.55701315, 0.55646894, 0.557185  , 0.55729957, 0.5608799 ,\n",
              "       0.55618251, 0.55792971, 0.56133818, 0.58376536, 0.58556985,\n",
              "       0.57027468, 0.55918999, 0.57044654, 0.58476785, 0.58628591,\n",
              "       0.58852004, 0.57084754, 0.57849512, 0.57434194])"
            ]
          },
          "metadata": {
            "tags": []
          },
          "execution_count": 36
        }
      ]
    },
    {
      "cell_type": "code",
      "metadata": {
        "id": "_9DXG8aMLN_Z",
        "outputId": "cd72de25-ee02-413e-a82d-5df6d2041375",
        "colab": {
          "base_uri": "https://localhost:8080/",
          "height": 297
        }
      },
      "source": [
        "plt.plot(range(1,Ks),mean_acc,'g')\n",
        "plt.fill_between(range(1,Ks),mean_acc - 1 * std_acc,mean_acc + 1 * std_acc, alpha=0.10)\n",
        "plt.legend(('Accuracy ', '+/- 3xstd'))\n",
        "plt.ylabel('Accuracy ')\n",
        "plt.xlabel('Number of Nabors (K)')\n",
        "plt.tight_layout()\n",
        "plt.show()"
      ],
      "execution_count": 37,
      "outputs": [
        {
          "output_type": "display_data",
          "data": {
            "image/png": "[encoded data removed]",
            "text/plain": [
              "<Figure size 432x288 with 1 Axes>"
            ]
          },
          "metadata": {
            "tags": [],
            "needs_background": "light"
          }
        }
      ]
    },
    {
      "cell_type": "markdown",
      "metadata": {
        "id": "aIr1lJlGHQIH"
      },
      "source": [
        "### Logistic Regression"
      ]
    },
    {
      "cell_type": "code",
      "metadata": {
        "id": "DbZgKqA2HU0C",
        "outputId": "eaa236c1-2d7d-4e2b-ef67-c1b5eec5a4d1",
        "colab": {
          "base_uri": "https://localhost:8080/",
          "height": 102
        }
      },
      "source": [
        "# Building the LR Model\n",
        "from sklearn.linear_model import LogisticRegression\n",
        "from sklearn.metrics import confusion_matrix\n",
        "LR = LogisticRegression(C=6, solver='liblinear').fit(X_train,y_train)\n",
        "LR"
      ],
      "execution_count": 21,
      "outputs": [
        {
          "output_type": "execute_result",
          "data": {
            "text/plain": [
              "LogisticRegression(C=6, class_weight=None, dual=False, fit_intercept=True,\n",
              "                   intercept_scaling=1, l1_ratio=None, max_iter=100,\n",
              "                   multi_class='auto', n_jobs=None, penalty='l2',\n",
              "                   random_state=None, solver='liblinear', tol=0.0001, verbose=0,\n",
              "                   warm_start=False)"
            ]
          },
          "metadata": {
            "tags": []
          },
          "execution_count": 21
        }
      ]
    },
    {
      "cell_type": "code",
      "metadata": {
        "id": "gthWgRQtHYV9",
        "outputId": "061297f5-559d-4897-c5ea-bfe74807285e",
        "colab": {
          "base_uri": "https://localhost:8080/",
          "height": 34
        }
      },
      "source": [
        "\n",
        "# Train Model & Predicr\n",
        "LRyhat = LR.predict(X_test)\n",
        "LRyhat"
      ],
      "execution_count": 22,
      "outputs": [
        {
          "output_type": "execute_result",
          "data": {
            "text/plain": [
              "array([1, 1, 1, ..., 1, 1, 2])"
            ]
          },
          "metadata": {
            "tags": []
          },
          "execution_count": 22
        }
      ]
    },
    {
      "cell_type": "code",
      "metadata": {
        "id": "kLqkRM5tHbFg",
        "outputId": "95d2bbd6-9958-4856-995e-a7f490e0b508",
        "colab": {
          "base_uri": "https://localhost:8080/",
          "height": 136
        }
      },
      "source": [
        "yhat_prob = LR.predict_proba(X_test)\n",
        "yhat_prob"
      ],
      "execution_count": 23,
      "outputs": [
        {
          "output_type": "execute_result",
          "data": {
            "text/plain": [
              "array([[0.63206507, 0.36793493],\n",
              "       [0.54537934, 0.45462066],\n",
              "       [0.7190647 , 0.2809353 ],\n",
              "       ...,\n",
              "       [0.54669814, 0.45330186],\n",
              "       [0.54537934, 0.45462066],\n",
              "       [0.35097023, 0.64902977]])"
            ]
          },
          "metadata": {
            "tags": []
          },
          "execution_count": 23
        }
      ]
    },
    {
      "cell_type": "markdown",
      "metadata": {
        "id": "VcVbJ013G3eT"
      },
      "source": [
        "### Decision Tree"
      ]
    },
    {
      "cell_type": "code",
      "metadata": {
        "id": "09ekv014G770",
        "outputId": "e08bbae7-cf0d-4bd7-8e78-8b7c299873ce",
        "colab": {
          "base_uri": "https://localhost:8080/",
          "height": 119
        }
      },
      "source": [
        "# Building the Decision Tree\n",
        "from sklearn.tree import DecisionTreeClassifier\n",
        "colDataTree = DecisionTreeClassifier(criterion=\"entropy\", max_depth = 7)\n",
        "colDataTree\n",
        "colDataTree.fit(X_train,y_train)"
      ],
      "execution_count": 24,
      "outputs": [
        {
          "output_type": "execute_result",
          "data": {
            "text/plain": [
              "DecisionTreeClassifier(ccp_alpha=0.0, class_weight=None, criterion='entropy',\n",
              "                       max_depth=7, max_features=None, max_leaf_nodes=None,\n",
              "                       min_impurity_decrease=0.0, min_impurity_split=None,\n",
              "                       min_samples_leaf=1, min_samples_split=2,\n",
              "                       min_weight_fraction_leaf=0.0, presort='deprecated',\n",
              "                       random_state=None, splitter='best')"
            ]
          },
          "metadata": {
            "tags": []
          },
          "execution_count": 24
        }
      ]
    },
    {
      "cell_type": "code",
      "metadata": {
        "id": "Q7jLRcYtHDbe",
        "outputId": "ae618194-3f6c-415d-f290-9044742a53fd",
        "colab": {
          "base_uri": "https://localhost:8080/",
          "height": 34
        }
      },
      "source": [
        "# Train Model & Predict\n",
        "DTyhat = colDataTree.predict(X_test)\n",
        "print (y_test [0:5])"
      ],
      "execution_count": 26,
      "outputs": [
        {
          "output_type": "stream",
          "text": [
            "[2 2 1 1 1]\n"
          ],
          "name": "stdout"
        }
      ]
    },
    {
      "cell_type": "markdown",
      "metadata": {
        "id": "GPXfFCaWHmMT"
      },
      "source": [
        "# Results"
      ]
    },
    {
      "cell_type": "code",
      "metadata": {
        "id": "Bbn_VLaiHo1y"
      },
      "source": [
        "from sklearn.metrics import jaccard_similarity_score\n",
        "from sklearn.metrics import f1_score\n",
        "from sklearn.metrics import log_loss"
      ],
      "execution_count": 42,
      "outputs": []
    },
    {
      "cell_type": "markdown",
      "metadata": {
        "id": "A46QGLwFHyBX"
      },
      "source": [
        "### K-Nearest Neighbours"
      ]
    },
    {
      "cell_type": "code",
      "metadata": {
        "id": "mqYNZDIzH-AZ",
        "outputId": "59447bac-adba-4ccb-8ed1-612bb58f7312",
        "colab": {
          "base_uri": "https://localhost:8080/",
          "height": 88
        }
      },
      "source": [
        "# Jaccard Similarity Score\n",
        "jaccard_similarity_score(y_test, Kyhat)"
      ],
      "execution_count": 40,
      "outputs": [
        {
          "output_type": "stream",
          "text": [
            "/usr/local/lib/python3.6/dist-packages/sklearn/metrics/_classification.py:664: FutureWarning: jaccard_similarity_score has been deprecated and replaced with jaccard_score. It will be removed in version 0.23. This implementation has surprising behavior for binary and multiclass classification tasks.\n",
            "  FutureWarning)\n"
          ],
          "name": "stderr"
        },
        {
          "output_type": "execute_result",
          "data": {
            "text/plain": [
              "0.5885200355168562"
            ]
          },
          "metadata": {
            "tags": []
          },
          "execution_count": 40
        }
      ]
    },
    {
      "cell_type": "code",
      "metadata": {
        "id": "BAguTa-OIH-2",
        "outputId": "7b26b0da-57ae-4fac-9ca3-4abdd94534c9",
        "colab": {
          "base_uri": "https://localhost:8080/",
          "height": 34
        }
      },
      "source": [
        "# F1-SCORE\n",
        "f1_score(y_test, Kyhat, average='macro')"
      ],
      "execution_count": 41,
      "outputs": [
        {
          "output_type": "execute_result",
          "data": {
            "text/plain": [
              "0.584730839962569"
            ]
          },
          "metadata": {
            "tags": []
          },
          "execution_count": 41
        }
      ]
    },
    {
      "cell_type": "markdown",
      "metadata": {
        "id": "rDARFQiHH-7x"
      },
      "source": [
        "### Logistic Regression"
      ]
    },
    {
      "cell_type": "code",
      "metadata": {
        "id": "Hudq9TR_HtnK",
        "outputId": "9e224c67-9cbe-4422-c064-0c37c31d1a07",
        "colab": {
          "base_uri": "https://localhost:8080/",
          "height": 88
        }
      },
      "source": [
        "# Jaccard Similarity Score\n",
        "jaccard_similarity_score(y_test, LRyhat)"
      ],
      "execution_count": 30,
      "outputs": [
        {
          "output_type": "stream",
          "text": [
            "/usr/local/lib/python3.6/dist-packages/sklearn/metrics/_classification.py:664: FutureWarning: jaccard_similarity_score has been deprecated and replaced with jaccard_score. It will be removed in version 0.23. This implementation has surprising behavior for binary and multiclass classification tasks.\n",
            "  FutureWarning)\n"
          ],
          "name": "stderr"
        },
        {
          "output_type": "execute_result",
          "data": {
            "text/plain": [
              "0.599031879242689"
            ]
          },
          "metadata": {
            "tags": []
          },
          "execution_count": 30
        }
      ]
    },
    {
      "cell_type": "code",
      "metadata": {
        "id": "o9VTDdMqIZ1D",
        "outputId": "b46c0a7b-af7a-4a39-dd45-cd5d0de24217",
        "colab": {
          "base_uri": "https://localhost:8080/",
          "height": 34
        }
      },
      "source": [
        "# F1-SCORE\n",
        "f1_score(y_test, LRyhat, average='macro')"
      ],
      "execution_count": 31,
      "outputs": [
        {
          "output_type": "execute_result",
          "data": {
            "text/plain": [
              "0.5949659784518213"
            ]
          },
          "metadata": {
            "tags": []
          },
          "execution_count": 31
        }
      ]
    },
    {
      "cell_type": "code",
      "metadata": {
        "id": "a8tHXbtqIdIO",
        "outputId": "be5e0203-ff36-4bba-f156-82dfa0d39dbc",
        "colab": {
          "base_uri": "https://localhost:8080/",
          "height": 34
        }
      },
      "source": [
        "# LOGLOSS\n",
        "yhat_prob = LR.predict_proba(X_test)\n",
        "log_loss(y_test, yhat_prob)"
      ],
      "execution_count": 32,
      "outputs": [
        {
          "output_type": "execute_result",
          "data": {
            "text/plain": [
              "0.6630838805740291"
            ]
          },
          "metadata": {
            "tags": []
          },
          "execution_count": 32
        }
      ]
    },
    {
      "cell_type": "markdown",
      "metadata": {
        "id": "krJw6bJek1pB"
      },
      "source": [
        "### Decision Tree"
      ]
    },
    {
      "cell_type": "code",
      "metadata": {
        "id": "bgeg5-Prk7ND",
        "outputId": "63e592a7-9244-4e0e-e95f-4efe3f049db7",
        "colab": {
          "base_uri": "https://localhost:8080/",
          "height": 88
        }
      },
      "source": [
        "# Jaccard Similarity Score\n",
        "jaccard_similarity_score(y_test, DTyhat)"
      ],
      "execution_count": 53,
      "outputs": [
        {
          "output_type": "stream",
          "text": [
            "/usr/local/lib/python3.6/dist-packages/sklearn/metrics/_classification.py:664: FutureWarning: jaccard_similarity_score has been deprecated and replaced with jaccard_score. It will be removed in version 0.23. This implementation has surprising behavior for binary and multiclass classification tasks.\n",
            "  FutureWarning)\n"
          ],
          "name": "stderr"
        },
        {
          "output_type": "execute_result",
          "data": {
            "text/plain": [
              "0.6054478274568212"
            ]
          },
          "metadata": {
            "tags": []
          },
          "execution_count": 53
        }
      ]
    },
    {
      "cell_type": "code",
      "metadata": {
        "id": "1sJdvJrBlBnE",
        "outputId": "2f5741b6-83bf-47c9-9fec-d59959711390",
        "colab": {
          "base_uri": "https://localhost:8080/",
          "height": 34
        }
      },
      "source": [
        "# F1-SCORE\n",
        "f1_score(y_test, DTyhat, average='macro')"
      ],
      "execution_count": 54,
      "outputs": [
        {
          "output_type": "execute_result",
          "data": {
            "text/plain": [
              "0.5980259628498739"
            ]
          },
          "metadata": {
            "tags": []
          },
          "execution_count": 54
        }
      ]
    },
    {
      "cell_type": "markdown",
      "metadata": {
        "id": "tGFp9OARIkL4"
      },
      "source": [
        "# Discussion\n",
        "From the results we can see that the Logistic Regression model performed better than the K-Nearest Neighbours and Decision Tree models. From the results obtained it is clear that the selected training attributes have some correlation with the target variable (Severity) but this correlation is not strong enough as the models in overall were not of very high accuracy. This maybe improved by selecting better training attributes that maybe be stronger predictors of the target variable."
      ]
    },
    {
      "cell_type": "markdown",
      "metadata": {
        "id": "ibvrg1SoInwH"
      },
      "source": [
        "#Conclusion\n",
        "The trained models were of decent accuracy, but for future work this level of accuracy can be improved as it's not near the desired level of accuracy."
      ]
    },
    {
      "cell_type": "markdown",
      "metadata": {
        "id": "hxIJ2M8xtrHK"
      },
      "source": [
        "# References\n",
        "[1] World Health Organization (WHO). Global Status Report on Road Safety 2018. December 2018. [cited 2019 April 8].Available from URL:https://www.who.int/violence_injury_prevention/road_safety_status/2018/en/external_icon"
      ]
    }
  ]
}